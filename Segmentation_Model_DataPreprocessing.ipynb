{
  "nbformat": 4,
  "nbformat_minor": 0,
  "metadata": {
    "colab": {
      "name": "Segmentation Model_DataPreprocessing.ipynb",
      "provenance": [],
      "collapsed_sections": [],
      "include_colab_link": true
    },
    "kernelspec": {
      "name": "python3",
      "display_name": "Python 3"
    }
  },
  "cells": [
    {
      "cell_type": "markdown",
      "metadata": {
        "id": "view-in-github",
        "colab_type": "text"
      },
      "source": [
        "<a href=\"https://colab.research.google.com/github/salmanahmad10/BBAK/blob/main/Segmentation_Model_DataPreprocessing.ipynb\" target=\"_parent\"><img src=\"https://colab.research.google.com/assets/colab-badge.svg\" alt=\"Open In Colab\"/></a>"
      ]
    },
    {
      "cell_type": "markdown",
      "metadata": {
        "id": "ZDNBn5unTzUH"
      },
      "source": [
        "**Data Preprocessing Module**"
      ]
    },
    {
      "cell_type": "code",
      "metadata": {
        "id": "C6Oxdv2eXu2x"
      },
      "source": [
        "import os\n",
        "import numpy as np\n",
        "import pandas as pd\n",
        "from sklearn.model_selection import train_test_split\n",
        "from IPython.display import clear_output\n",
        "import matplotlib.pyplot as plt\n",
        "import tensorflow as tf\n",
        "import cv2"
      ],
      "execution_count": null,
      "outputs": []
    },
    {
      "cell_type": "code",
      "metadata": {
        "id": "c39WK96uzxlv"
      },
      "source": [
        "H = 128\n",
        "W = 128"
      ],
      "execution_count": null,
      "outputs": []
    },
    {
      "cell_type": "code",
      "metadata": {
        "id": "kz-p21PZX1TX"
      },
      "source": [
        "def process_data(data_path, file_path):\n",
        "  df = pd.read_csv(file_path, header=None)\n",
        "  names = df[0].values\n",
        "\n",
        "  images = [os.path.join(data_path, f\"Images/{name}\") for name in names]\n",
        "  masks = [os.path.join(data_path, f\"SegmentedImages/{name}\") for name in names]\n",
        "\n",
        "  return images, masks\n"
      ],
      "execution_count": null,
      "outputs": []
    },
    {
      "cell_type": "code",
      "metadata": {
        "id": "iCWkTfCcZrWs"
      },
      "source": [
        "def load_data(path):\n",
        "  train_valid_path = os.path.join(path, \"Images/Train.txt\")\n",
        "  test_path = os.path.join(path, \"SegmentedImages/Test.txt\")\n",
        "\n",
        "  train_x, train_y = process_data(path, train_valid_path)\n",
        "  test_x, test_y = process_data(path, train_valid_path)\n",
        "\n",
        "  train_x, valid_x = train_test_split(train_x, test_size = 0.1, random_state = 42)\n",
        "  train_y, valid_y = train_test_split(train_y, test_size = 0.1, random_state = 42)\n",
        "\n",
        "  return (train_x, train_y), (valid_x, valid_y), (test_x, test_y)"
      ],
      "execution_count": null,
      "outputs": []
    },
    {
      "cell_type": "code",
      "metadata": {
        "id": "l7tWfWb1YrJ_",
        "colab": {
          "base_uri": "https://localhost:8080/"
        },
        "outputId": "8cadfc61-5a56-449e-ffa6-9de411ebde9d"
      },
      "source": [
        "from google.colab import drive\n",
        "drive.mount('/content/gdrive')"
      ],
      "execution_count": null,
      "outputs": [
        {
          "output_type": "stream",
          "text": [
            "Mounted at /content/gdrive\n"
          ],
          "name": "stdout"
        }
      ]
    },
    {
      "cell_type": "code",
      "metadata": {
        "id": "RdXhtCBlYV9B"
      },
      "source": [
        "path = \"gdrive/MyDrive/master/SharedGoogleDrive/Dataset/HandDrawnWireframes/Annotation/\""
      ],
      "execution_count": null,
      "outputs": []
    },
    {
      "cell_type": "code",
      "metadata": {
        "id": "imwYwJzUYtv5",
        "colab": {
          "base_uri": "https://localhost:8080/"
        },
        "outputId": "80afd9a7-ed30-4ece-fb97-6db364e33d18"
      },
      "source": [
        "(train_x, train_y), (valid_x, valid_y), (test_x, test_y) = load_data(path)\n",
        "\n",
        "print(f\"Dataset: Train: {len(train_x)} - Valid: {len(valid_x)} - Test: {len(test_x)}\")"
      ],
      "execution_count": null,
      "outputs": [
        {
          "output_type": "stream",
          "text": [
            "Dataset: Train: 202 - Valid: 23 - Test: 225\n"
          ],
          "name": "stdout"
        }
      ]
    },
    {
      "cell_type": "code",
      "metadata": {
        "id": "nwbPZe10Y3iU"
      },
      "source": [
        "def readImage(x):\n",
        "  x = cv2.imread(x, cv2.IMREAD_COLOR)\n",
        "  x = cv2.resize(x, (W, H))\n",
        "  x = x / 255.0\n",
        "  x = x.astype(np.float32)\n",
        "\n",
        "  return x\n",
        "\n",
        "def readMask(x):\n",
        "  x = cv2.imread(x, cv2.IMREAD_GRAYSCALE)\n",
        "  x = cv2.resize(x, (W, H))\n",
        "  x = x / 255.0\n",
        "  x -= 1\n",
        "  x = x.astype(np.int32)\n",
        "\n",
        "  return x"
      ],
      "execution_count": null,
      "outputs": []
    },
    {
      "cell_type": "code",
      "metadata": {
        "id": "VzuYfwGxteCJ"
      },
      "source": [
        "def tf_database(x, y, batch=8):\n",
        "  dataset = tf.data.Dataset.from_tensor_slices((x,y))\n",
        "  dataset = dataset.shuffle(buffer_size=5000)\n",
        "  dataset = dataset.map(preprocess)\n",
        "  dataset = dataset.batch(batch)\n",
        "  dataset = dataset.repeat()\n",
        "  dataset = dataset.prefetch(2)\n",
        "  return dataset"
      ],
      "execution_count": null,
      "outputs": []
    },
    {
      "cell_type": "code",
      "metadata": {
        "id": "dHhbzlVY78xx"
      },
      "source": [
        "\n",
        "def preprocess(x, y):\n",
        "  def f(x, y):\n",
        "    x = x.decode()\n",
        "    y = y.decode()\n",
        "\n",
        "    image = readImage(x)\n",
        "    mask = readMask(y)\n",
        "\n",
        "    return image, mask\n",
        "\n",
        "  image, mask = tf.numpy_function(f, [x, y], [tf.float32, tf.int32])\n",
        "  mask = tf.one_hot(mask, 12, dtype=tf.int32)\n",
        "  image = tf.ensure_shape(image, [H, W, 12])\n",
        "  mask = tf.ensure_shape(mask, [H, W, 12])\n",
        "\n",
        "  return image, mask"
      ],
      "execution_count": null,
      "outputs": []
    },
    {
      "cell_type": "code",
      "metadata": {
        "colab": {
          "base_uri": "https://localhost:8080/"
        },
        "id": "Ippe-3gY4ZXH",
        "outputId": "81eff464-f028-4de7-fbc2-eebfb3b65af9"
      },
      "source": [
        " (train_x, train_y), (valid_x, valid_y), (test_x, test_y) = load_data(path)\n",
        " print(f\"Dataset: Train: {len(train_x)} - Valid: {len(valid_x)} - Test: {len(test_x)}\")\n"
      ],
      "execution_count": null,
      "outputs": [
        {
          "output_type": "stream",
          "text": [
            "Dataset: Train: 202 - Valid: 23 - Test: 225\n"
          ],
          "name": "stdout"
        }
      ]
    },
    {
      "cell_type": "code",
      "metadata": {
        "id": "yeMOMAVf5maO",
        "colab": {
          "base_uri": "https://localhost:8080/",
          "height": 195
        },
        "outputId": "bbb3f9b5-3b60-4b8d-d87f-a44f22dec30a"
      },
      "source": [
        "#dataset = tf_dataset(train_x, train_y, batch=8)\n",
        "#for x, y in dataset:\n",
        "#  print(x.shape, y.shape) ## (8, 256, 256, 3), (8, 256, 256, 3)"
      ],
      "execution_count": null,
      "outputs": [
        {
          "output_type": "error",
          "ename": "NameError",
          "evalue": "ignored",
          "traceback": [
            "\u001b[0;31m---------------------------------------------------------------------------\u001b[0m",
            "\u001b[0;31mNameError\u001b[0m                                 Traceback (most recent call last)",
            "\u001b[0;32m<ipython-input-16-081f62167f24>\u001b[0m in \u001b[0;36m<module>\u001b[0;34m()\u001b[0m\n\u001b[0;32m----> 1\u001b[0;31m \u001b[0mdataset\u001b[0m \u001b[0;34m=\u001b[0m \u001b[0mtf_dataset\u001b[0m\u001b[0;34m(\u001b[0m\u001b[0mtrain_x\u001b[0m\u001b[0;34m,\u001b[0m \u001b[0mtrain_y\u001b[0m\u001b[0;34m,\u001b[0m \u001b[0mbatch\u001b[0m\u001b[0;34m=\u001b[0m\u001b[0;36m8\u001b[0m\u001b[0;34m)\u001b[0m\u001b[0;34m\u001b[0m\u001b[0;34m\u001b[0m\u001b[0m\n\u001b[0m\u001b[1;32m      2\u001b[0m \u001b[0;32mfor\u001b[0m \u001b[0mx\u001b[0m\u001b[0;34m,\u001b[0m \u001b[0my\u001b[0m \u001b[0;32min\u001b[0m \u001b[0mdataset\u001b[0m\u001b[0;34m:\u001b[0m\u001b[0;34m\u001b[0m\u001b[0;34m\u001b[0m\u001b[0m\n\u001b[1;32m      3\u001b[0m   \u001b[0mprint\u001b[0m\u001b[0;34m(\u001b[0m\u001b[0mx\u001b[0m\u001b[0;34m.\u001b[0m\u001b[0mshape\u001b[0m\u001b[0;34m,\u001b[0m \u001b[0my\u001b[0m\u001b[0;34m.\u001b[0m\u001b[0mshape\u001b[0m\u001b[0;34m)\u001b[0m \u001b[0;31m## (8, 256, 256, 3), (8, 256, 256, 3)\u001b[0m\u001b[0;34m\u001b[0m\u001b[0;34m\u001b[0m\u001b[0m\n",
            "\u001b[0;31mNameError\u001b[0m: name 'tf_dataset' is not defined"
          ]
        }
      ]
    },
    {
      "cell_type": "code",
      "metadata": {
        "id": "rHG_VJNmWhxT"
      },
      "source": [
        ""
      ],
      "execution_count": null,
      "outputs": []
    }
  ]
}