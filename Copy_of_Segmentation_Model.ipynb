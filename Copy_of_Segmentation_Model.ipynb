{
  "nbformat": 4,
  "nbformat_minor": 0,
  "metadata": {
    "colab": {
      "name": "Copy of Segmentation Model.ipynb",
      "provenance": [],
      "include_colab_link": true
    },
    "kernelspec": {
      "name": "python3",
      "display_name": "Python 3"
    }
  },
  "cells": [
    {
      "cell_type": "markdown",
      "metadata": {
        "id": "view-in-github",
        "colab_type": "text"
      },
      "source": [
        "<a href=\"https://colab.research.google.com/github/salmanahmad10/BBAK/blob/main/Copy_of_Segmentation_Model.ipynb\" target=\"_parent\"><img src=\"https://colab.research.google.com/assets/colab-badge.svg\" alt=\"Open In Colab\"/></a>"
      ]
    },
    {
      "cell_type": "code",
      "metadata": {
        "id": "7r8uPz0MgdcZ"
      },
      "source": [
        "segmentedDataTrain = 'gdrive/My Drive/SharedGoogleDrive/Dataset/HandDrawnWireframes/dataset/ColouredTrain/'\r\n",
        "segmentedDataTest = 'gdrive/My Drive/SharedGoogleDrive/Dataset/HandDrawnWireframes/dataset/ColouredTest/'\r\n",
        "imagesDataTrain = 'gdrive/My Drive/SharedGoogleDrive/Dataset/HandDrawnWireframes/dataset/train/'\r\n",
        "imagesDataTest = 'gdrive/My Drive/SharedGoogleDrive/Dataset/HandDrawnWireframes/dataset/test/'"
      ],
      "execution_count": 1,
      "outputs": []
    },
    {
      "cell_type": "code",
      "metadata": {
        "id": "C6Oxdv2eXu2x"
      },
      "source": [
        "import os\r\n",
        "import numpy as np\r\n",
        "import pandas as pd"
      ],
      "execution_count": 2,
      "outputs": []
    },
    {
      "cell_type": "code",
      "metadata": {
        "id": "kz-p21PZX1TX"
      },
      "source": [
        "def process_data(data_path, file_path):\r\n",
        "  df = pd.read_csv(file_path, header=None)\r\n",
        "  names = df[0].values\r\n",
        "  print(names)\r\n"
      ],
      "execution_count": 3,
      "outputs": []
    },
    {
      "cell_type": "code",
      "metadata": {
        "id": "iCWkTfCcZrWs"
      },
      "source": [
        "def load_data(path):\r\n",
        "  train_valid_path = os.path.join(path, \"Images.txt\")\r\n",
        "  train_x = process_data(path, train_valid_path)"
      ],
      "execution_count": 4,
      "outputs": []
    },
    {
      "cell_type": "code",
      "metadata": {
        "id": "l7tWfWb1YrJ_",
        "colab": {
          "base_uri": "https://localhost:8080/"
        },
        "outputId": "09913f52-4ab7-41be-de1c-40d027f8d1d0"
      },
      "source": [
        "from google.colab import drive\r\n",
        "drive.mount('/content/gdrive')"
      ],
      "execution_count": 5,
      "outputs": [
        {
          "output_type": "stream",
          "text": [
            "Mounted at /content/gdrive\n"
          ],
          "name": "stdout"
        }
      ]
    },
    {
      "cell_type": "code",
      "metadata": {
        "id": "RdXhtCBlYV9B"
      },
      "source": [
        "path = \"gdrive/MyDrive/master/SharedGoogleDrive/Dataset/HandDrawnWireframes/dataset/Images/\""
      ],
      "execution_count": 10,
      "outputs": []
    },
    {
      "cell_type": "code",
      "metadata": {
        "id": "imwYwJzUYtv5",
        "colab": {
          "base_uri": "https://localhost:8080/"
        },
        "outputId": "e718e8b2-7cb1-4043-ced1-c77fd67f7374"
      },
      "source": [
        "load_data(path)"
      ],
      "execution_count": 11,
      "outputs": [
        {
          "output_type": "stream",
          "text": [
            "['00000.png' '00000.xml' '00001.png' ... 'images_14.xml' 'images_20.png'\n",
            " 'images_20.xml']\n"
          ],
          "name": "stdout"
        }
      ]
    },
    {
      "cell_type": "code",
      "metadata": {
        "id": "nwbPZe10Y3iU"
      },
      "source": [
        ""
      ],
      "execution_count": null,
      "outputs": []
    }
  ]
}