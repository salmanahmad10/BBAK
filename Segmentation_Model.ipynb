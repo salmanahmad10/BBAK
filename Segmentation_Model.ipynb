{
  "nbformat": 4,
  "nbformat_minor": 0,
  "metadata": {
    "colab": {
      "name": "Segmentation Model.ipynb",
      "provenance": [],
      "authorship_tag": "ABX9TyOYNWKdNpBfqTfXLXqvwujE",
      "include_colab_link": true
    },
    "kernelspec": {
      "name": "python3",
      "display_name": "Python 3"
    }
  },
  "cells": [
    {
      "cell_type": "markdown",
      "metadata": {
        "id": "view-in-github",
        "colab_type": "text"
      },
      "source": [
        "<a href=\"https://colab.research.google.com/github/salmanahmad10/BBAK/blob/main/Segmentation_Model.ipynb\" target=\"_parent\"><img src=\"https://colab.research.google.com/assets/colab-badge.svg\" alt=\"Open In Colab\"/></a>"
      ]
    },
    {
      "cell_type": "code",
      "metadata": {
        "id": "ZYPKwdmf5T4j"
      },
      "source": [
        "\r\n",
        "from google.colab import drive\r\n",
        "drive.mount('/content/gdrive')\r\n"
      ],
      "execution_count": null,
      "outputs": []
    },
    {
      "cell_type": "code",
      "metadata": {
        "id": "i7xaDf61gaW-"
      },
      "source": [
        "import tensorflow as tf\r\n",
        "from tensorflow_examples.models.pix2pix import pix2pix\r\n",
        "from IPython.display import clear_output\r\n",
        "import matplotlib.pyplot as plt"
      ],
      "execution_count": 1,
      "outputs": []
    },
    {
      "cell_type": "code",
      "metadata": {
        "id": "7r8uPz0MgdcZ"
      },
      "source": [
        "dir_name = 'gdrive/My Drive/SharedGoogleDrive/Dataset/pix2code_datasets/web/eval_light/'"
      ],
      "execution_count": null,
      "outputs": []
    },
    {
      "cell_type": "code",
      "metadata": {
        "id": "NKDAaAzoiZtf"
      },
      "source": [
        "def normalize(input_image, input_mask):\r\n",
        "  input_image = tf.cast(input_image, tf.float32) / 255.0\r\n",
        "  input_mask -= 1\r\n",
        "  return input_image, input_mask"
      ],
      "execution_count": null,
      "outputs": []
    },
    {
      "cell_type": "code",
      "metadata": {
        "id": "B4fwf4xu2oxi"
      },
      "source": [
        "@tf.function\r\n",
        "def load_image_train(datapoint):\r\n",
        "  input_image = tf.image.resize(datapoint['image'], (128, 128))\r\n",
        "  input_mask = tf.image.resize(datapoint['segmentation_mask'], (128, 128))\r\n",
        "\r\n",
        "  if tf.random.uniform(()) > 0.5:\r\n",
        "    input_image = tf.image.flip_left_right(input_image)\r\n",
        "    input_mask = tf.image.flip_left_right(input_mask)\r\n",
        "\r\n",
        "  input_image, input_mask = normalize(input_image, input_mask)\r\n",
        "\r\n",
        "  return input_image, input_mask"
      ],
      "execution_count": null,
      "outputs": []
    }
  ]
}