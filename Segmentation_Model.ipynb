{
  "nbformat": 4,
  "nbformat_minor": 0,
  "metadata": {
    "colab": {
      "name": "Segmentation Model.ipynb",
      "provenance": [],
      "include_colab_link": true
    },
    "kernelspec": {
      "name": "python3",
      "display_name": "Python 3"
    }
  },
  "cells": [
    {
      "cell_type": "markdown",
      "metadata": {
        "id": "view-in-github",
        "colab_type": "text"
      },
      "source": [
        "<a href=\"https://colab.research.google.com/github/salmanahmad10/BBAK/blob/main/Segmentation_Model.ipynb\" target=\"_parent\"><img src=\"https://colab.research.google.com/assets/colab-badge.svg\" alt=\"Open In Colab\"/></a>"
      ]
    },
    {
      "cell_type": "code",
      "metadata": {
        "id": "ZYPKwdmf5T4j",
        "colab": {
          "base_uri": "https://localhost:8080/"
        },
        "outputId": "53f5e122-61de-42a1-dbdc-bdc1ae4da93d"
      },
      "source": [
        "\r\n",
        "from google.colab import drive\r\n",
        "drive.mount('/content/gdrive')\r\n"
      ],
      "execution_count": null,
      "outputs": [
        {
          "output_type": "stream",
          "text": [
            "Mounted at /content/gdrive\n"
          ],
          "name": "stdout"
        }
      ]
    },
    {
      "cell_type": "code",
      "metadata": {
        "colab": {
          "base_uri": "https://localhost:8080/"
        },
        "id": "zuScXNj8m562",
        "outputId": "032bdfab-c5f7-4ccd-dfd7-8bceb9382409"
      },
      "source": [
        "!pip install git+https://github.com/tensorflow/examples.git"
      ],
      "execution_count": null,
      "outputs": [
        {
          "output_type": "stream",
          "text": [
            "Collecting git+https://github.com/tensorflow/examples.git\n",
            "  Cloning https://github.com/tensorflow/examples.git to /tmp/pip-req-build-fwsk07hg\n",
            "  Running command git clone -q https://github.com/tensorflow/examples.git /tmp/pip-req-build-fwsk07hg\n",
            "Requirement already satisfied: absl-py in /usr/local/lib/python3.6/dist-packages (from tensorflow-examples===ee198ec873148a5df3fd6eedb8d396613164ead7-) (0.10.0)\n",
            "Requirement already satisfied: six in /usr/local/lib/python3.6/dist-packages (from tensorflow-examples===ee198ec873148a5df3fd6eedb8d396613164ead7-) (1.15.0)\n",
            "Building wheels for collected packages: tensorflow-examples\n",
            "  Building wheel for tensorflow-examples (setup.py) ... \u001b[?25l\u001b[?25hdone\n",
            "  Created wheel for tensorflow-examples: filename=tensorflow_examples-ee198ec873148a5df3fd6eedb8d396613164ead7_-cp36-none-any.whl size=215217 sha256=eda9d70e44841400baf54788a066940b5ab3d69a22b18f26e08724f5001c8b94\n",
            "  Stored in directory: /tmp/pip-ephem-wheel-cache-yqxaz7dy/wheels/83/64/b3/4cfa02dc6f9d16bf7257892c6a7ec602cd7e0ff6ec4d7d714d\n",
            "Successfully built tensorflow-examples\n",
            "Installing collected packages: tensorflow-examples\n",
            "Successfully installed tensorflow-examples-ee198ec873148a5df3fd6eedb8d396613164ead7-\n"
          ],
          "name": "stdout"
        }
      ]
    },
    {
      "cell_type": "code",
      "metadata": {
        "id": "i7xaDf61gaW-"
      },
      "source": [
        "import tensorflow as tf\r\n",
        "from tensorflow_examples.models.pix2pix import pix2pix\r\n",
        "from IPython.display import clear_output\r\n",
        "import matplotlib.pyplot as plt"
      ],
      "execution_count": null,
      "outputs": []
    },
    {
      "cell_type": "code",
      "metadata": {
        "id": "7r8uPz0MgdcZ"
      },
      "source": [
        "segmentedDataTrain = 'gdrive/My Drive/SharedGoogleDrive/Dataset/HandDrawnWireframes/dataset/ColouredTrain/'\r\n",
        "segmentedDataTest = 'gdrive/My Drive/SharedGoogleDrive/Dataset/HandDrawnWireframes/dataset/ColouredTest/'\r\n",
        "imagesDataTrain = 'gdrive/My Drive/SharedGoogleDrive/Dataset/HandDrawnWireframes/dataset/train/'\r\n",
        "imagesDataTest = 'gdrive/My Drive/SharedGoogleDrive/Dataset/HandDrawnWireframes/dataset/test/'"
      ],
      "execution_count": null,
      "outputs": []
    },
    {
      "cell_type": "code",
      "metadata": {
        "id": "NKDAaAzoiZtf"
      },
      "source": [
        "def normalize(input_image, input_mask):\r\n",
        "  input_image = tf.cast(input_image, tf.float32) / 255.0\r\n",
        "  input_mask -= 1\r\n",
        "  return input_image, input_mask"
      ],
      "execution_count": null,
      "outputs": []
    },
    {
      "cell_type": "code",
      "metadata": {
        "id": "z2uA7gr-qfo1"
      },
      "source": [
        "imagesTrain = []\r\n",
        "imagesTest = []\r\n",
        "segmentedImagesTrain = []\r\n",
        "segmentedImagesTest = []"
      ],
      "execution_count": null,
      "outputs": []
    },
    {
      "cell_type": "code",
      "metadata": {
        "id": "B4fwf4xu2oxi"
      },
      "source": [
        "@tf.function\r\n",
        "def load_image_train(datapointImages, datapointSeg):\r\n",
        "  input_image = tf.image.resize(datapointImages, (256, 256))\r\n",
        "  input_mask = tf.image.resize(datapointSeg, (256, 256))\r\n",
        "\r\n",
        "  if tf.random.uniform(()) > 0.5:\r\n",
        "    input_image = tf.image.flip_left_right(input_image)\r\n",
        "    input_mask = tf.image.flip_left_right(input_mask)\r\n",
        "\r\n",
        "  input_image, input_mask = normalize(input_image, input_mask)\r\n",
        "\r\n",
        "  return input_image, input_mask"
      ],
      "execution_count": null,
      "outputs": []
    },
    {
      "cell_type": "code",
      "metadata": {
        "id": "42at9F0-riFm"
      },
      "source": [
        "def load_image_test(datapointImages, datapointSeg):\r\n",
        "  input_image = tf.image.resize(datapointImages, (256, 256))\r\n",
        "  input_mask = tf.image.resize(datapointSeg, (256, 256))\r\n",
        "\r\n",
        "  input_image, input_mask = normalize(input_image, input_mask)\r\n",
        "\r\n",
        "  return input_image, input_mask"
      ],
      "execution_count": null,
      "outputs": []
    },
    {
      "cell_type": "code",
      "metadata": {
        "id": "ZYXMyOQCtdYT"
      },
      "source": [
        "def load_data(data_dir):\r\n",
        "    images = []\r\n",
        "    seg = []\r\n",
        "    # Load all the files and order them\r\n",
        "    all_filenames = listdir(data_dir)\r\n",
        "    all_filenames.sort()\r\n",
        "    for filename in (all_filenames):\r\n",
        "        if filename[-3:] == \"png\":\r\n",
        "            # Load the images already prepared in arrays\r\n",
        "            images.append(image)\r\n",
        "            seg.append(image)\r\n",
        "    #images = np.array(images, dtype=float)\r\n",
        "    return images"
      ],
      "execution_count": null,
      "outputs": []
    }
  ]
}